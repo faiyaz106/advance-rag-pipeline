{
 "cells": [
  {
   "cell_type": "code",
   "execution_count": 4,
   "id": "105f5ecd-a337-4972-9717-02d0a6927950",
   "metadata": {},
   "outputs": [],
   "source": [
    "import utils\n",
    "import os\n",
    "import openai\n",
    "openai.api_key = utils.get_openai_api_key()"
   ]
  },
  {
   "cell_type": "code",
   "execution_count": 16,
   "id": "af647a95-7329-423b-aaf6-30c2892ff650",
   "metadata": {},
   "outputs": [],
   "source": [
    "doc_path=\"./documents\"\n",
    "files_list=os.listdir(doc_path)\n",
    "files=[os.path.join(doc_path,file_name) for file_name in files_list]"
   ]
  },
  {
   "cell_type": "code",
   "execution_count": 17,
   "id": "ff33a2b9-b939-43b6-b4be-668e9d4f4167",
   "metadata": {},
   "outputs": [],
   "source": [
    "from llama_index.core import SimpleDirectoryReader\n",
    "documents = SimpleDirectoryReader(\n",
    "    input_files=files\n",
    ").load_data()"
   ]
  },
  {
   "cell_type": "code",
   "execution_count": 18,
   "id": "7b110521-3180-4aaf-9c66-6dcee704f74b",
   "metadata": {},
   "outputs": [
    {
     "name": "stdout",
     "output_type": "stream",
     "text": [
      "<class 'list'> \n",
      "\n",
      "141 \n",
      "\n",
      "<class 'llama_index.core.schema.Document'>\n",
      "Doc ID: 68ebcfd7-1573-4929-8549-e58ad1b68b43\n",
      "Text: Userid: CPM Schema:  i1040xLeadpct: 100% Pt. size: 10  Draft  Ok\n",
      "to Print AH XSL/XML Fileid: … ions/i1040/2023/a/xml/cycle08/source\n",
      "(Init. & Date) _______ Page 1 of 114  13:55 - 27-Dec-2023 The type and\n",
      "rule above prints on all proofs including departmental reproduction\n",
      "proofs. MUST be removed before printing. Dec 27, 2023 Cat. No. 24811V\n",
      "Futur ...\n"
     ]
    }
   ],
   "source": [
    "print(type(documents), \"\\n\")\n",
    "print(len(documents), \"\\n\")\n",
    "print(type(documents[0]))\n",
    "print(documents[0])"
   ]
  },
  {
   "cell_type": "code",
   "execution_count": 19,
   "id": "de007c3f-e09c-4a03-8cd9-b4a78791eb0f",
   "metadata": {},
   "outputs": [],
   "source": [
    "## Basic RAG pipeline\n",
    "from llama_index.core import Document\n",
    "\n",
    "document = Document(text=\"\\n\\n\".join([doc.text for doc in documents]))"
   ]
  },
  {
   "cell_type": "code",
   "execution_count": 22,
   "id": "4faf8366-ebae-4488-9ce7-5e037d1cfb7a",
   "metadata": {},
   "outputs": [
    {
     "name": "stderr",
     "output_type": "stream",
     "text": [
      "/var/folders/s4/2ckbp3v55651lb5c8j__q7dw0000gn/T/ipykernel_35938/3391627733.py:6: DeprecationWarning: Call to deprecated class method from_defaults. (ServiceContext is deprecated, please use `llama_index.settings.Settings` instead.) -- Deprecated since version 0.10.0.\n",
      "  service_context = ServiceContext.from_defaults(llm=llm, embed_model=\"local:BAAI/bge-small-en-v1.5\")\n"
     ]
    }
   ],
   "source": [
    "from llama_index.core import VectorStoreIndex\n",
    "from llama_index.core import ServiceContext\n",
    "from llama_index.llms.openai import OpenAI\n",
    "\n",
    "llm = OpenAI(model=\"gpt-3.5-turbo\", temperature=0.1)\n",
    "service_context = ServiceContext.from_defaults(llm=llm, embed_model=\"local:BAAI/bge-small-en-v1.5\")\n",
    "index = VectorStoreIndex.from_documents([document],service_context=service_context)"
   ]
  },
  {
   "cell_type": "code",
   "execution_count": 23,
   "id": "9e3e174f-efb2-4471-8194-09c0963e47ae",
   "metadata": {},
   "outputs": [],
   "source": [
    "from utils import build_sentence_window_index\n",
    "\n",
    "sentence_index = build_sentence_window_index(\n",
    "    document,\n",
    "    llm,\n",
    "    embed_model=\"local:BAAI/bge-small-en-v1.5\",\n",
    "    save_dir=\"sentence_index\"\n",
    ")"
   ]
  },
  {
   "cell_type": "code",
   "execution_count": 24,
   "id": "ccf4a465-eba6-4c4f-afca-f70f5c119056",
   "metadata": {},
   "outputs": [],
   "source": [
    "from utils import get_sentence_window_query_engine\n",
    "sentence_window_engine = get_sentence_window_query_engine(sentence_index)"
   ]
  },
  {
   "cell_type": "code",
   "execution_count": 27,
   "id": "871f5606-07d0-408c-9035-330e23d15147",
   "metadata": {},
   "outputs": [
    {
     "name": "stdout",
     "output_type": "stream",
     "text": [
      "1. Enter the total interest paid on qualified student loans in 2023, not exceeding $2,500.\n",
      "2. Multiply the total interest paid by the adjusted gross income.\n",
      "3. Subtract the result from step 2 from the total interest paid in step 1.\n",
      "4. Enter the final deduction amount on Schedule 1, line 21.\n"
     ]
    }
   ],
   "source": [
    "window_response = sentence_window_engine.query(\n",
    "   \"What is the workflow to compute student loan interest deduction? Write points wise\")\n",
    "print(str(window_response))"
   ]
  },
  {
   "cell_type": "code",
   "execution_count": null,
   "id": "d59bc283-b293-4da8-97ae-fa0ea739e3ec",
   "metadata": {},
   "outputs": [],
   "source": []
  }
 ],
 "metadata": {
  "kernelspec": {
   "display_name": "Python 3 (ipykernel)",
   "language": "python",
   "name": "python3"
  },
  "language_info": {
   "codemirror_mode": {
    "name": "ipython",
    "version": 3
   },
   "file_extension": ".py",
   "mimetype": "text/x-python",
   "name": "python",
   "nbconvert_exporter": "python",
   "pygments_lexer": "ipython3",
   "version": "3.9.6"
  }
 },
 "nbformat": 4,
 "nbformat_minor": 5
}
