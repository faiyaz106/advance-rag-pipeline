{
 "cells": [
  {
   "cell_type": "code",
   "execution_count": 8,
   "id": "105f5ecd-a337-4972-9717-02d0a6927950",
   "metadata": {},
   "outputs": [
    {
     "ename": "AttributeError",
     "evalue": "module 'utils' has no attribute 'get_openai_api_key'",
     "output_type": "error",
     "traceback": [
      "\u001b[0;31m---------------------------------------------------------------------------\u001b[0m",
      "\u001b[0;31mAttributeError\u001b[0m                            Traceback (most recent call last)",
      "Cell \u001b[0;32mIn[8], line 4\u001b[0m\n\u001b[1;32m      2\u001b[0m \u001b[38;5;28;01mimport\u001b[39;00m \u001b[38;5;21;01mos\u001b[39;00m\n\u001b[1;32m      3\u001b[0m \u001b[38;5;28;01mimport\u001b[39;00m \u001b[38;5;21;01mopenai\u001b[39;00m\n\u001b[0;32m----> 4\u001b[0m openai\u001b[38;5;241m.\u001b[39mapi_key \u001b[38;5;241m=\u001b[39m \u001b[43mutils\u001b[49m\u001b[38;5;241;43m.\u001b[39;49m\u001b[43mget_openai_api_key\u001b[49m()\n",
      "\u001b[0;31mAttributeError\u001b[0m: module 'utils' has no attribute 'get_openai_api_key'"
     ]
    }
   ],
   "source": [
    "import utils\n",
    "import os\n",
    "import openai\n",
    "openai.api_key = utils.get_openai_api_key()"
   ]
  },
  {
   "cell_type": "code",
   "execution_count": 10,
   "id": "ff33a2b9-b939-43b6-b4be-668e9d4f4167",
   "metadata": {},
   "outputs": [],
   "source": [
    "import os\n",
    "from dotenv import load_dotenv, find_dotenv\n",
    "\n",
    "import numpy as np\n",
    "from trulens_eval import (\n",
    "    Feedback,\n",
    "    TruLlama,\n",
    "    OpenAI\n",
    ")"
   ]
  },
  {
   "cell_type": "code",
   "execution_count": 2,
   "id": "7b110521-3180-4aaf-9c66-6dcee704f74b",
   "metadata": {},
   "outputs": [
    {
     "ename": "AttributeError",
     "evalue": "module 'utils' has no attribute 'get_openai_api_key'",
     "output_type": "error",
     "traceback": [
      "\u001b[0;31m---------------------------------------------------------------------------\u001b[0m",
      "\u001b[0;31mAttributeError\u001b[0m                            Traceback (most recent call last)",
      "Cell \u001b[0;32mIn[2], line 1\u001b[0m\n\u001b[0;32m----> 1\u001b[0m openai\u001b[38;5;241m.\u001b[39mapi_key \u001b[38;5;241m=\u001b[39m \u001b[43mutils\u001b[49m\u001b[38;5;241;43m.\u001b[39;49m\u001b[43mget_openai_api_key\u001b[49m()\n",
      "\u001b[0;31mAttributeError\u001b[0m: module 'utils' has no attribute 'get_openai_api_key'"
     ]
    }
   ],
   "source": []
  },
  {
   "cell_type": "code",
   "execution_count": 5,
   "id": "de007c3f-e09c-4a03-8cd9-b4a78791eb0f",
   "metadata": {},
   "outputs": [],
   "source": [
    "from llama_index.core import VectorStoreIndex, SimpleDirectoryReader"
   ]
  },
  {
   "cell_type": "code",
   "execution_count": 4,
   "id": "4faf8366-ebae-4488-9ce7-5e037d1cfb7a",
   "metadata": {},
   "outputs": [],
   "source": [
    "from llama_index.core.llms import LLM\n",
    "from llama_index.llms.openai import OpenAI"
   ]
  },
  {
   "cell_type": "code",
   "execution_count": 19,
   "id": "ccf4a465-eba6-4c4f-afca-f70f5c119056",
   "metadata": {},
   "outputs": [],
   "source": [
    "import trulens_eval.feedback as fb"
   ]
  },
  {
   "cell_type": "code",
   "execution_count": 20,
   "id": "871f5606-07d0-408c-9035-330e23d15147",
   "metadata": {},
   "outputs": [
    {
     "name": "stdout",
     "output_type": "stream",
     "text": [
      "['AzureOpenAI', 'Bedrock', 'Embeddings', 'Feedback', 'GroundTruthAgreement', 'Huggingface', 'Langchain', 'LiteLLM', 'OpenAI', 'OptionalImports', 'REQUIREMENT_BEDROCK', 'REQUIREMENT_LITELLM', 'REQUIREMENT_OPENAI', '__all__', '__builtins__', '__cached__', '__doc__', '__file__', '__loader__', '__name__', '__package__', '__path__', '__spec__', 'embeddings', 'feedback', 'groundtruth', 'mod_feedback', 'prompts', 'provider', 'v2']\n"
     ]
    }
   ],
   "source": [
    "print(dir(fb))"
   ]
  },
  {
   "cell_type": "code",
   "execution_count": 22,
   "id": "a5eec930-d7f6-45a3-94ed-1eb155cf1900",
   "metadata": {},
   "outputs": [],
   "source": [
    "from trulens_eval.feedback import Embeddings"
   ]
  },
  {
   "cell_type": "code",
   "execution_count": 13,
   "id": "c5720015-c3ff-4efe-ae7a-2177373b7d61",
   "metadata": {},
   "outputs": [],
   "source": [
    "import trulens_eval"
   ]
  },
  {
   "cell_type": "code",
   "execution_count": 21,
   "id": "3fb01c1b-d00b-4a97-9c82-f5166b48e905",
   "metadata": {},
   "outputs": [],
   "source": [
    "import nest_asyncio"
   ]
  },
  {
   "cell_type": "code",
   "execution_count": null,
   "id": "085baba1-c85d-42a8-8b07-164f27c78c6e",
   "metadata": {},
   "outputs": [],
   "source": []
  }
 ],
 "metadata": {
  "kernelspec": {
   "display_name": "Python 3 (ipykernel)",
   "language": "python",
   "name": "python3"
  },
  "language_info": {
   "codemirror_mode": {
    "name": "ipython",
    "version": 3
   },
   "file_extension": ".py",
   "mimetype": "text/x-python",
   "name": "python",
   "nbconvert_exporter": "python",
   "pygments_lexer": "ipython3",
   "version": "3.9.6"
  }
 },
 "nbformat": 4,
 "nbformat_minor": 5
}
